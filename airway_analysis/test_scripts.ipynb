{
 "cells": [
  {
   "cell_type": "code",
   "execution_count": 6,
   "metadata": {
    "collapsed": true,
    "pycharm": {
     "name": "#%%\n"
    }
   },
   "outputs": [],
   "source": [
    "import csv\n",
    "import airway_analysis.bronchipy.io.branchio as brio\n",
    "from airway_analysis.bronchipy.calc.measure_airways import calc_pi10\n",
    "from airway_analysis.bronchipy.calc.summary_stats import param_by_gen, agg_param, total_count"
   ]
  },
  {
   "cell_type": "code",
   "execution_count": 7,
   "outputs": [],
   "source": [
    "tree = brio.load_pickle_tree(\"../temp_test_files/Analysis/airway_tree.pickle\")"
   ],
   "metadata": {
    "collapsed": false,
    "pycharm": {
     "name": "#%%\n"
    }
   }
  },
  {
   "cell_type": "code",
   "execution_count": 8,
   "outputs": [
    {
     "name": "stderr",
     "output_type": "stream",
     "text": [
      "INFO:root:Pi10 R2 value is: 0.9439402430182865\n",
      "INFO:root:Slope [0.24051721] and intercept 2.531364587930363\n"
     ]
    },
    {
     "name": "stdout",
     "output_type": "stream",
     "text": [
      "..\\temp_test_files\\pi10\\pi10_graph.jpg\n"
     ]
    },
    {
     "data": {
      "text/plain": "<Figure size 432x288 with 1 Axes>",
      "image/png": "[encoded data removed]"
     },
     "metadata": {
      "needs_background": "light"
     },
     "output_type": "display_data"
    }
   ],
   "source": [
    "# Calculate bronchial parameters\n",
    "pi10_tree = tree[(tree.generation > 1) & (tree.generation <= 6)]\n",
    "pi10 = calc_pi10(\n",
    "    pi10_tree[\"wall_global_area\"],\n",
    "    pi10_tree[\"inner_radius\"],\n",
    "    name=\"pi10_graph\",\n",
    "    save_dir=\"../temp_test_files/pi10\",\n",
    "    plot=True\n",
    ")"
   ],
   "metadata": {
    "collapsed": false,
    "pycharm": {
     "name": "#%%\n"
    }
   }
  },
  {
   "cell_type": "code",
   "execution_count": 9,
   "outputs": [],
   "source": [
    "wap3 = param_by_gen(tree, 3, \"wall_global_area_perc\")"
   ],
   "metadata": {
    "collapsed": false,
    "pycharm": {
     "name": "#%%\n"
    }
   }
  },
  {
   "cell_type": "code",
   "execution_count": 10,
   "outputs": [],
   "source": [
    "wap3 = param_by_gen(tree, 3, \"wall_global_area_perc\")\n",
    "la3 = param_by_gen(tree, 3, \"inner_global_area\")\n",
    "wt3 = param_by_gen(tree, 3, \"wall_global_thickness\")\n",
    "wap35 = agg_param(tree, [3, 5], \"wall_global_area_perc\")\n",
    "la35 = agg_param(tree, [3, 5], \"inner_global_area\")\n",
    "wt35 = agg_param(tree, [3, 5], \"wall_global_thickness\")\n",
    "tcount = total_count(tree)"
   ],
   "metadata": {
    "collapsed": false,
    "pycharm": {
     "name": "#%%\n"
    }
   }
  },
  {
   "cell_type": "code",
   "execution_count": 11,
   "outputs": [],
   "source": [
    "bp_head = [\"id\", \"bp_wap3\", \"bp_wap35\", \"bp_la3\", \"bp_la35\", \"bp_wt3\", \"bp_wt35\", \"bp_tcount\", \"bp_pi10\"]\n",
    "bp_list = [wap3, wap35, la3, la35, wt3, wt35, tcount, pi10]\n",
    "with open(f\"../temp_test_files/bp_summary.csv\", \"w\") as f:\n",
    "    writer = csv.writer(f)\n",
    "    writer.writerow(bp_head)\n",
    "    writer.writerow(bp_list)"
   ],
   "metadata": {
    "collapsed": false,
    "pycharm": {
     "name": "#%%\n"
    }
   }
  },
  {
   "cell_type": "code",
   "execution_count": null,
   "outputs": [],
   "source": [],
   "metadata": {
    "collapsed": false,
    "pycharm": {
     "name": "#%%\n"
    }
   }
  }
 ],
 "metadata": {
  "kernelspec": {
   "name": "pycharm-f6bd61a7",
   "language": "python",
   "display_name": "PyCharm (Air_Flow_ImaLife)"
  },
  "language_info": {
   "codemirror_mode": {
    "name": "ipython",
    "version": 2
   },
   "file_extension": ".py",
   "mimetype": "text/x-python",
   "name": "python",
   "nbconvert_exporter": "python",
   "pygments_lexer": "ipython2",
   "version": "2.7.6"
  }
 },
 "nbformat": 4,
 "nbformat_minor": 0
}