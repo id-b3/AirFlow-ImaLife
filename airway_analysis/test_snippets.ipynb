{
 "cells": [
  {
   "cell_type": "code",
   "execution_count": 26,
   "outputs": [],
   "source": [
    "from numpy import convolve, negative, power, exp, divide, multiply, sum"
   ],
   "metadata": {
    "collapsed": false,
    "pycharm": {
     "name": "#%%\n"
    }
   }
  },
  {
   "cell_type": "code",
   "execution_count": 20,
   "outputs": [],
   "source": [
    "def get_kernel(window_width: int, sigma: int) -> list:\n",
    "    \"\"\"\n",
    "    Parameters\n",
    "    -------\n",
    "    window_width: list\n",
    "        List of intervals for gaussian window\n",
    "    sigma: int\n",
    "        Standard deviation or \"width\" of gaussian curve\n",
    "    Returns\n",
    "    -------\n",
    "    normalised kernel of gaussian window\n",
    "    \"\"\"\n",
    "    x = [*range(-window_width, window_width + 1)]\n",
    "    kernel = exp(divide(power(negative(x), 2), 2 * power(sigma, 2)))\n",
    "    kernel = kernel / sum(kernel)\n",
    "\n",
    "    return kernel"
   ],
   "metadata": {
    "collapsed": false,
    "pycharm": {
     "name": "#%%\n"
    }
   }
  },
  {
   "cell_type": "code",
   "execution_count": 21,
   "outputs": [
    {
     "data": {
      "text/plain": "array([0.24207599, 0.12957394, 0.08905478, 0.07859057, 0.08905478,\n       0.12957394, 0.24207599])"
     },
     "execution_count": 21,
     "metadata": {},
     "output_type": "execute_result"
    }
   ],
   "source": [
    "kernel_made = get_kernel(3, 2)\n",
    "kernel_made"
   ],
   "metadata": {
    "collapsed": false,
    "pycharm": {
     "name": "#%%\n"
    }
   }
  },
  {
   "cell_type": "code",
   "execution_count": 22,
   "outputs": [
    {
     "data": {
      "text/plain": "3"
     },
     "execution_count": 22,
     "metadata": {},
     "output_type": "execute_result"
    }
   ],
   "source": [
    "mid_index = int(len(kernel_made)/2)\n",
    "mid_index"
   ],
   "metadata": {
    "collapsed": false,
    "pycharm": {
     "name": "#%%\n"
    }
   }
  },
  {
   "cell_type": "code",
   "execution_count": 28,
   "outputs": [
    {
     "name": "stdout",
     "output_type": "stream",
     "text": [
      "[0.07859057 0.08905478 0.12957394 0.24207599]\n",
      "[0.14572827 0.16513176 0.2402653  0.44887467]\n"
     ]
    },
    {
     "ename": "ValueError",
     "evalue": "operands could not be broadcast together with shapes (3,) (4,) ",
     "output_type": "error",
     "traceback": [
      "\u001B[1;31m---------------------------------------------------------------------------\u001B[0m",
      "\u001B[1;31mValueError\u001B[0m                                Traceback (most recent call last)",
      "\u001B[1;32m<ipython-input-28-b3f55a41b6a3>\u001B[0m in \u001B[0;36m<module>\u001B[1;34m\u001B[0m\n\u001B[0;32m      7\u001B[0m     \u001B[0mtmp_filter\u001B[0m \u001B[1;33m=\u001B[0m \u001B[0mdivide\u001B[0m\u001B[1;33m(\u001B[0m\u001B[0mtmp_filter\u001B[0m\u001B[1;33m,\u001B[0m \u001B[0msum\u001B[0m\u001B[1;33m(\u001B[0m\u001B[0mtmp_filter\u001B[0m\u001B[1;33m)\u001B[0m\u001B[1;33m)\u001B[0m\u001B[1;33m\u001B[0m\u001B[1;33m\u001B[0m\u001B[0m\n\u001B[0;32m      8\u001B[0m     \u001B[0mprint\u001B[0m\u001B[1;33m(\u001B[0m\u001B[0mtmp_filter\u001B[0m\u001B[1;33m)\u001B[0m\u001B[1;33m\u001B[0m\u001B[1;33m\u001B[0m\u001B[0m\n\u001B[1;32m----> 9\u001B[1;33m     \u001B[0mmultiplied\u001B[0m \u001B[1;33m=\u001B[0m \u001B[0mmultiply\u001B[0m\u001B[1;33m(\u001B[0m\u001B[0mradii\u001B[0m\u001B[1;33m[\u001B[0m\u001B[1;33m:\u001B[0m\u001B[0mmid_index\u001B[0m\u001B[1;33m+\u001B[0m\u001B[0mi\u001B[0m\u001B[1;33m]\u001B[0m\u001B[1;33m,\u001B[0m \u001B[0mtmp_filter\u001B[0m\u001B[1;33m)\u001B[0m\u001B[1;33m\u001B[0m\u001B[1;33m\u001B[0m\u001B[0m\n\u001B[0m\u001B[0;32m     10\u001B[0m     \u001B[0mconvolved\u001B[0m \u001B[1;33m=\u001B[0m \u001B[0msum\u001B[0m\u001B[1;33m(\u001B[0m\u001B[0mmultiplied\u001B[0m\u001B[1;33m)\u001B[0m\u001B[1;33m\u001B[0m\u001B[1;33m\u001B[0m\u001B[0m\n\u001B[0;32m     11\u001B[0m     \u001B[0mprint\u001B[0m\u001B[1;33m(\u001B[0m\u001B[0mconvolved\u001B[0m\u001B[1;33m)\u001B[0m\u001B[1;33m\u001B[0m\u001B[1;33m\u001B[0m\u001B[0m\n",
      "\u001B[1;31mValueError\u001B[0m: operands could not be broadcast together with shapes (3,) (4,) "
     ]
    }
   ],
   "source": [
    "left = []\n",
    "radii = [1.25768,1.17432,1.14639,1.19582,1.16848,1.18433,1.13193,1.15015,1.12888,1.20616,1.22181,1.14383,1.14451,1.07132,1.14595,1.26909,1.50458,1.44053,]\n",
    "\n",
    "for i in range(0,mid_index-2):\n",
    "    tmp_filter = kernel_made[mid_index-i:]\n",
    "    print(tmp_filter)\n",
    "    tmp_filter = divide(tmp_filter, sum(tmp_filter))\n",
    "    print(tmp_filter)\n",
    "    multiplied = multiply(radii[:mid_index+i], tmp_filter)\n",
    "    convolved = sum(multiplied)\n",
    "    print(convolved)\n",
    "    left.append(convolved)\n",
    "\n",
    "left"
   ],
   "metadata": {
    "collapsed": false,
    "pycharm": {
     "name": "#%%\n"
    }
   }
  },
  {
   "cell_type": "code",
   "execution_count": null,
   "outputs": [],
   "source": [],
   "metadata": {
    "collapsed": false,
    "pycharm": {
     "name": "#%%\n"
    }
   }
  }
 ],
 "metadata": {
  "kernelspec": {
   "name": "pycharm-f6bd61a7",
   "language": "python",
   "display_name": "PyCharm (Air_Flow_ImaLife)"
  },
  "language_info": {
   "codemirror_mode": {
    "name": "ipython",
    "version": 2
   },
   "file_extension": ".py",
   "mimetype": "text/x-python",
   "name": "python",
   "nbconvert_exporter": "python",
   "pygments_lexer": "ipython2",
   "version": "2.7.6"
  }
 },
 "nbformat": 4,
 "nbformat_minor": 0
}