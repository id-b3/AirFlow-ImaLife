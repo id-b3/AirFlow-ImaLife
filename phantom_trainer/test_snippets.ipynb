{
 "cells": [
  {
   "cell_type": "code",
   "execution_count": 32,
   "outputs": [],
   "source": [
    "from pathlib import Path\n",
    "import pandas as pd\n",
    "import logging\n",
    "import numpy as np\n",
    "from airway_analysis.bronchipy.tree.airwaytree import AirwayTree\n",
    "from airway_analysis.bronchipy.io.branchio import load_csv, load_branch_csv, load_local_radius_csv"
   ],
   "metadata": {
    "collapsed": false,
    "pycharm": {
     "name": "#%%\n"
    }
   }
  },
  {
   "cell_type": "code",
   "execution_count": 33,
   "outputs": [],
   "source": [
    "logging.basicConfig(level=logging.DEBUG)\n",
    "run_out_dir = \"./results\"\n",
    "volume = \"./results/phantom_volume_surface0.nii.gz\""
   ],
   "metadata": {
    "collapsed": false,
    "pycharm": {
     "name": "#%%\n"
    }
   }
  },
  {
   "cell_type": "code",
   "execution_count": 34,
   "metadata": {
    "collapsed": true,
    "pycharm": {
     "name": "#%%\n"
    }
   },
   "outputs": [
    {
     "name": "stderr",
     "output_type": "stream",
     "text": [
      "DEBUG:root:List of files: Inner ['results/split_regions/region_1/phantom_volume_inner.csv', 'results/split_regions/region_2/phantom_volume_inner.csv', 'results/split_regions/region_3/phantom_volume_inner.csv', 'results/split_regions/region_4/phantom_volume_inner.csv', 'results/split_regions/region_5/phantom_volume_inner.csv', 'results/split_regions/region_6/phantom_volume_inner.csv', 'results/split_regions/region_7/phantom_volume_inner.csv', 'results/split_regions/region_8/phantom_volume_inner.csv']\n",
      "DEBUG:root:List of files: Outer ['results/split_regions/region_1/phantom_volume_outer.csv', 'results/split_regions/region_2/phantom_volume_outer.csv', 'results/split_regions/region_3/phantom_volume_outer.csv', 'results/split_regions/region_4/phantom_volume_outer.csv', 'results/split_regions/region_5/phantom_volume_outer.csv', 'results/split_regions/region_6/phantom_volume_outer.csv', 'results/split_regions/region_7/phantom_volume_outer.csv', 'results/split_regions/region_8/phantom_volume_outer.csv']\n",
      "DEBUG:root:List of files: Inner Local ['results/split_regions/region_1/phantom_volume_inner_local_pandas.csv', 'results/split_regions/region_2/phantom_volume_inner_local_pandas.csv', 'results/split_regions/region_3/phantom_volume_inner_local_pandas.csv', 'results/split_regions/region_4/phantom_volume_inner_local_pandas.csv', 'results/split_regions/region_5/phantom_volume_inner_local_pandas.csv', 'results/split_regions/region_6/phantom_volume_inner_local_pandas.csv', 'results/split_regions/region_7/phantom_volume_inner_local_pandas.csv', 'results/split_regions/region_8/phantom_volume_inner_local_pandas.csv']\n",
      "DEBUG:root:List of files: Outer Local ['results/split_regions/region_1/phantom_volume_outer_local_pandas.csv', 'results/split_regions/region_2/phantom_volume_outer_local_pandas.csv', 'results/split_regions/region_3/phantom_volume_outer_local_pandas.csv', 'results/split_regions/region_4/phantom_volume_outer_local_pandas.csv', 'results/split_regions/region_5/phantom_volume_outer_local_pandas.csv', 'results/split_regions/region_6/phantom_volume_outer_local_pandas.csv', 'results/split_regions/region_7/phantom_volume_outer_local_pandas.csv', 'results/split_regions/region_8/phantom_volume_outer_local_pandas.csv']\n",
      "DEBUG:root:List of files: Branches ['results/split_regions/region_1/phantom_volume_airways_centrelines.csv', 'results/split_regions/region_2/phantom_volume_airways_centrelines.csv', 'results/split_regions/region_3/phantom_volume_airways_centrelines.csv', 'results/split_regions/region_4/phantom_volume_airways_centrelines.csv', 'results/split_regions/region_5/phantom_volume_airways_centrelines.csv', 'results/split_regions/region_6/phantom_volume_airways_centrelines.csv', 'results/split_regions/region_7/phantom_volume_airways_centrelines.csv', 'results/split_regions/region_8/phantom_volume_airways_centrelines.csv']\n"
     ]
    }
   ],
   "source": [
    "split_out_dir = \"./results/split_regions\"\n",
    "list_inner = [str(list(split_path.glob(\"*_inner.csv\"))[0])\n",
    "              for split_path in Path(split_out_dir).iterdir()]\n",
    "list_inner.sort()\n",
    "list_outer = [str(list(split_path.glob(\"*_outer.csv\"))[0])\n",
    "              for split_path in Path(split_out_dir).iterdir()]\n",
    "list_outer.sort()\n",
    "list_local_inner = [str(list(split_path.glob(\"*_inner_local_pandas.csv\"))[0])\n",
    "                    for split_path in Path(split_out_dir).iterdir()]\n",
    "list_local_inner.sort()\n",
    "list_local_outer = [str(list(split_path.glob(\"*_outer_local_pandas.csv\"))[0])\n",
    "                    for split_path in Path(split_out_dir).iterdir()]\n",
    "list_local_outer.sort()\n",
    "list_branches = [str(list(split_path.glob(\"*_airways_centrelines.csv\"))[0])\n",
    "                 for split_path in Path(split_out_dir).iterdir()]\n",
    "list_branches.sort()\n",
    "\n",
    "logging.debug(f\"List of files: Inner {list_inner}\")\n",
    "logging.debug(f\"List of files: Outer {list_outer}\")\n",
    "logging.debug(f\"List of files: Inner Local {list_local_inner}\")\n",
    "logging.debug(f\"List of files: Outer Local {list_local_outer}\")\n",
    "logging.debug(f\"List of files: Branches {list_branches}\")"
   ]
  },
  {
   "cell_type": "code",
   "execution_count": 35,
   "outputs": [
    {
     "name": "stderr",
     "output_type": "stream",
     "text": [
      "INFO:root:Loading global csv results/split_regions/region_1/phantom_volume_inner.csv...\n",
      "INFO:root:Success!\n",
      "INFO:root:Loading global csv results/split_regions/region_2/phantom_volume_inner.csv...\n",
      "INFO:root:Success!\n",
      "INFO:root:Loading global csv results/split_regions/region_3/phantom_volume_inner.csv...\n",
      "INFO:root:Success!\n",
      "INFO:root:Loading global csv results/split_regions/region_4/phantom_volume_inner.csv...\n",
      "INFO:root:Success!\n",
      "INFO:root:Loading global csv results/split_regions/region_5/phantom_volume_inner.csv...\n",
      "INFO:root:Success!\n",
      "INFO:root:Loading global csv results/split_regions/region_6/phantom_volume_inner.csv...\n",
      "INFO:root:Success!\n",
      "INFO:root:Loading global csv results/split_regions/region_7/phantom_volume_inner.csv...\n",
      "INFO:root:Success!\n",
      "INFO:root:Loading global csv results/split_regions/region_8/phantom_volume_inner.csv...\n",
      "INFO:root:Success!\n",
      "INFO:root:Loading global csv results/split_regions/region_1/phantom_volume_outer.csv...\n",
      "INFO:root:Success!\n",
      "INFO:root:Loading global csv results/split_regions/region_2/phantom_volume_outer.csv...\n",
      "INFO:root:Success!\n",
      "INFO:root:Loading global csv results/split_regions/region_3/phantom_volume_outer.csv...\n",
      "INFO:root:Success!\n",
      "INFO:root:Loading global csv results/split_regions/region_4/phantom_volume_outer.csv...\n",
      "INFO:root:Success!\n",
      "INFO:root:Loading global csv results/split_regions/region_5/phantom_volume_outer.csv...\n",
      "INFO:root:Success!\n",
      "INFO:root:Loading global csv results/split_regions/region_6/phantom_volume_outer.csv...\n",
      "INFO:root:Success!\n",
      "INFO:root:Loading global csv results/split_regions/region_7/phantom_volume_outer.csv...\n",
      "INFO:root:Success!\n",
      "INFO:root:Loading global csv results/split_regions/region_8/phantom_volume_outer.csv...\n",
      "INFO:root:Success!\n",
      "INFO:root:Loading local csv results/split_regions/region_1/phantom_volume_inner_local_pandas.csv...\n",
      "INFO:root:Success!\n",
      "INFO:root:Loading local csv results/split_regions/region_2/phantom_volume_inner_local_pandas.csv...\n",
      "INFO:root:Success!\n",
      "INFO:root:Loading local csv results/split_regions/region_3/phantom_volume_inner_local_pandas.csv...\n",
      "INFO:root:Success!\n",
      "INFO:root:Loading local csv results/split_regions/region_4/phantom_volume_inner_local_pandas.csv...\n",
      "INFO:root:Success!\n",
      "INFO:root:Loading local csv results/split_regions/region_5/phantom_volume_inner_local_pandas.csv...\n",
      "INFO:root:Success!\n",
      "INFO:root:Loading local csv results/split_regions/region_6/phantom_volume_inner_local_pandas.csv...\n",
      "INFO:root:Success!\n",
      "INFO:root:Loading local csv results/split_regions/region_7/phantom_volume_inner_local_pandas.csv...\n",
      "INFO:root:Success!\n",
      "INFO:root:Loading local csv results/split_regions/region_8/phantom_volume_inner_local_pandas.csv...\n",
      "INFO:root:Success!\n",
      "INFO:root:Loading local csv results/split_regions/region_1/phantom_volume_outer_local_pandas.csv...\n",
      "INFO:root:Success!\n",
      "INFO:root:Loading local csv results/split_regions/region_2/phantom_volume_outer_local_pandas.csv...\n",
      "INFO:root:Success!\n",
      "INFO:root:Loading local csv results/split_regions/region_3/phantom_volume_outer_local_pandas.csv...\n",
      "INFO:root:Success!\n",
      "INFO:root:Loading local csv results/split_regions/region_4/phantom_volume_outer_local_pandas.csv...\n",
      "INFO:root:Success!\n",
      "INFO:root:Loading local csv results/split_regions/region_5/phantom_volume_outer_local_pandas.csv...\n",
      "INFO:root:Success!\n",
      "INFO:root:Loading local csv results/split_regions/region_6/phantom_volume_outer_local_pandas.csv...\n",
      "INFO:root:Success!\n",
      "INFO:root:Loading local csv results/split_regions/region_7/phantom_volume_outer_local_pandas.csv...\n",
      "INFO:root:Success!\n",
      "INFO:root:Loading local csv results/split_regions/region_8/phantom_volume_outer_local_pandas.csv...\n",
      "INFO:root:Success!\n",
      "INFO:root:Loading branch csv results/split_regions/region_1/phantom_volume_airways_centrelines.csv...\n",
      "INFO:root:Success!\n",
      "INFO:root:Loading branch csv results/split_regions/region_2/phantom_volume_airways_centrelines.csv...\n",
      "INFO:root:Success!\n",
      "INFO:root:Loading branch csv results/split_regions/region_3/phantom_volume_airways_centrelines.csv...\n",
      "INFO:root:Success!\n",
      "INFO:root:Loading branch csv results/split_regions/region_4/phantom_volume_airways_centrelines.csv...\n",
      "INFO:root:Success!\n",
      "INFO:root:Loading branch csv results/split_regions/region_5/phantom_volume_airways_centrelines.csv...\n",
      "INFO:root:Success!\n",
      "INFO:root:Loading branch csv results/split_regions/region_6/phantom_volume_airways_centrelines.csv...\n",
      "INFO:root:Success!\n",
      "INFO:root:Loading branch csv results/split_regions/region_7/phantom_volume_airways_centrelines.csv...\n",
      "INFO:root:Success!\n",
      "INFO:root:Loading branch csv results/split_regions/region_8/phantom_volume_airways_centrelines.csv...\n",
      "INFO:root:Success!\n"
     ]
    }
   ],
   "source": [
    "combined_inner = pd.concat([load_csv(in_file=f, inner=True) for f in list_inner])\n",
    "combined_inner['branch'] = np.arange(1, len(combined_inner) + 1)\n",
    "combined_outer = pd.concat([load_csv(in_file=f, inner=False) for f in list_outer])\n",
    "combined_outer['branch'] = np.arange(1, len(combined_inner) + 1)\n",
    "combined_local_inner = pd.concat([load_local_radius_csv(in_file=f, inner=True) for f in list_local_inner])\n",
    "combined_local_inner['branch'] = np.arange(1, len(combined_inner) + 1)\n",
    "combined_local_outer = pd.concat([load_local_radius_csv(in_file=f, inner=False) for f in list_local_outer])\n",
    "combined_local_outer['branch'] = np.arange(1, len(combined_inner) + 1)\n",
    "combined_branches = pd.concat([load_branch_csv(f) for f in list_branches])"
   ],
   "metadata": {
    "collapsed": false,
    "pycharm": {
     "name": "#%%\n"
    }
   }
  },
  {
   "cell_type": "code",
   "execution_count": 36,
   "outputs": [],
   "source": [
    "inner_file = f\"{run_out_dir}/inner.csv\"\n",
    "outer_file = f\"{run_out_dir}/outer.csv\"\n",
    "inner_local = f\"{run_out_dir}/inner_local.csv\"\n",
    "outer_local = f\"{run_out_dir}/outer_local.csv\"\n",
    "branch_file = f\"{run_out_dir}/branches.csv\"\n",
    "\n",
    "combined_inner.to_csv(inner_file, index=False)\n",
    "combined_outer.to_csv(outer_file, index=False)\n",
    "combined_local_inner.to_csv(inner_local, sep=\";\", index=False)\n",
    "combined_local_outer.to_csv(outer_local, sep=\";\", index=False)\n",
    "combined_branches.to_csv(branch_file, sep=\";\", index=False)"
   ],
   "metadata": {
    "collapsed": false,
    "pycharm": {
     "name": "#%%\n"
    }
   }
  },
  {
   "cell_type": "code",
   "execution_count": 37,
   "outputs": [
    {
     "name": "stderr",
     "output_type": "stream",
     "text": [
      "INFO:root:Loading branch csv ./results/branches.csv...\n",
      "INFO:root:Success!\n",
      "INFO:root:Index(['branch', 'generation', 'parent', 'children', 'points', 'centreline'], dtype='object')\n"
     ]
    },
    {
     "ename": "AttributeError",
     "evalue": "'list' object has no attribute 'shape'",
     "output_type": "error",
     "traceback": [
      "\u001B[0;31m---------------------------------------------------------------------------\u001B[0m",
      "\u001B[0;31mAttributeError\u001B[0m                            Traceback (most recent call last)",
      "\u001B[0;32m<ipython-input-37-99415f56edca>\u001B[0m in \u001B[0;36m<module>\u001B[0;34m\u001B[0m\n\u001B[1;32m      1\u001B[0m \u001B[0;31m# 6.  Process using airway analysis tools for summary.\u001B[0m\u001B[0;34m\u001B[0m\u001B[0;34m\u001B[0m\u001B[0;34m\u001B[0m\u001B[0m\n\u001B[0;32m----> 2\u001B[0;31m phantom = AirwayTree(branch_file=branch_file, inner_file=inner_file, outer_file=outer_file,\n\u001B[0m\u001B[1;32m      3\u001B[0m                      inner_radius_file=inner_local, outer_radius_file=outer_local, volume=volume)\n\u001B[1;32m      4\u001B[0m \u001B[0mphantom\u001B[0m\u001B[0;34m.\u001B[0m\u001B[0mtree\u001B[0m\u001B[0;34m.\u001B[0m\u001B[0mtail\u001B[0m\u001B[0;34m(\u001B[0m\u001B[0;34m)\u001B[0m\u001B[0;34m\u001B[0m\u001B[0;34m\u001B[0m\u001B[0m\n\u001B[1;32m      5\u001B[0m \u001B[0;34m\u001B[0m\u001B[0m\n",
      "\u001B[0;32m~/AirSeg/Air_Flow_ImaLife/airway_analysis/bronchipy/tree/airwaytree.py\u001B[0m in \u001B[0;36m__init__\u001B[0;34m(self, **kwargs)\u001B[0m\n\u001B[1;32m     51\u001B[0m                           \u001B[0;34m'inner_rad'\u001B[0m\u001B[0;34m:\u001B[0m \u001B[0mkwargs\u001B[0m\u001B[0;34m.\u001B[0m\u001B[0mget\u001B[0m\u001B[0;34m(\u001B[0m\u001B[0;34m'inner_radius_file'\u001B[0m\u001B[0;34m,\u001B[0m \u001B[0;32mNone\u001B[0m\u001B[0;34m)\u001B[0m\u001B[0;34m,\u001B[0m \u001B[0;34m'outer'\u001B[0m\u001B[0;34m:\u001B[0m \u001B[0mkwargs\u001B[0m\u001B[0;34m.\u001B[0m\u001B[0mget\u001B[0m\u001B[0;34m(\u001B[0m\u001B[0;34m'outer_file'\u001B[0m\u001B[0;34m,\u001B[0m \u001B[0;32mNone\u001B[0m\u001B[0;34m)\u001B[0m\u001B[0;34m,\u001B[0m\u001B[0;34m\u001B[0m\u001B[0;34m\u001B[0m\u001B[0m\n\u001B[1;32m     52\u001B[0m                           'outer_rad': kwargs.get('outer_radius_file', None), 'vol': kwargs.get('volume', None)}\n\u001B[0;32m---> 53\u001B[0;31m             \u001B[0mself\u001B[0m\u001B[0;34m.\u001B[0m\u001B[0mtree\u001B[0m \u001B[0;34m=\u001B[0m \u001B[0mself\u001B[0m\u001B[0;34m.\u001B[0m\u001B[0morganise_tree\u001B[0m\u001B[0;34m(\u001B[0m\u001B[0;34m)\u001B[0m  \u001B[0;31m#: only necessary if the tree_csv has not been previously made.\u001B[0m\u001B[0;34m\u001B[0m\u001B[0;34m\u001B[0m\u001B[0m\n\u001B[0m\u001B[1;32m     54\u001B[0m \u001B[0;34m\u001B[0m\u001B[0m\n\u001B[1;32m     55\u001B[0m     \u001B[0;32mdef\u001B[0m \u001B[0morganise_tree\u001B[0m\u001B[0;34m(\u001B[0m\u001B[0mself\u001B[0m\u001B[0;34m)\u001B[0m \u001B[0;34m->\u001B[0m \u001B[0mpd\u001B[0m\u001B[0;34m.\u001B[0m\u001B[0mDataFrame\u001B[0m\u001B[0;34m:\u001B[0m\u001B[0;34m\u001B[0m\u001B[0;34m\u001B[0m\u001B[0m\n",
      "\u001B[0;32m~/AirSeg/Air_Flow_ImaLife/airway_analysis/bronchipy/tree/airwaytree.py\u001B[0m in \u001B[0;36morganise_tree\u001B[0;34m(self)\u001B[0m\n\u001B[1;32m     71\u001B[0m         \u001B[0mbranch_df\u001B[0m\u001B[0;34m[\u001B[0m\u001B[0;34m'num_points'\u001B[0m\u001B[0;34m]\u001B[0m \u001B[0;34m=\u001B[0m \u001B[0mbranch_df\u001B[0m\u001B[0;34m.\u001B[0m\u001B[0mapply\u001B[0m\u001B[0;34m(\u001B[0m\u001B[0;32mlambda\u001B[0m \u001B[0mrow\u001B[0m\u001B[0;34m:\u001B[0m \u001B[0mlen\u001B[0m\u001B[0;34m(\u001B[0m\u001B[0mrow\u001B[0m\u001B[0;34m.\u001B[0m\u001B[0mpoints\u001B[0m\u001B[0;34m)\u001B[0m\u001B[0;34m,\u001B[0m \u001B[0maxis\u001B[0m\u001B[0;34m=\u001B[0m\u001B[0;36m1\u001B[0m\u001B[0;34m)\u001B[0m\u001B[0;34m\u001B[0m\u001B[0;34m\u001B[0m\u001B[0m\n\u001B[1;32m     72\u001B[0m         \u001B[0;31m# Calculate and add the branch lengths in mm.\u001B[0m\u001B[0;34m\u001B[0m\u001B[0;34m\u001B[0m\u001B[0;34m\u001B[0m\u001B[0m\n\u001B[0;32m---> 73\u001B[0;31m         \u001B[0mbranch_df\u001B[0m\u001B[0;34m[\u001B[0m\u001B[0;34m'length'\u001B[0m\u001B[0;34m]\u001B[0m \u001B[0;34m=\u001B[0m \u001B[0mbranch_df\u001B[0m\u001B[0;34m.\u001B[0m\u001B[0mapply\u001B[0m\u001B[0;34m(\u001B[0m\u001B[0;32mlambda\u001B[0m \u001B[0mrow\u001B[0m\u001B[0;34m:\u001B[0m \u001B[0mcalc_branch_length\u001B[0m\u001B[0;34m(\u001B[0m\u001B[0mrow\u001B[0m\u001B[0;34m.\u001B[0m\u001B[0mpoints\u001B[0m\u001B[0;34m)\u001B[0m\u001B[0;34m,\u001B[0m \u001B[0maxis\u001B[0m\u001B[0;34m=\u001B[0m\u001B[0;36m1\u001B[0m\u001B[0;34m)\u001B[0m\u001B[0;34m\u001B[0m\u001B[0;34m\u001B[0m\u001B[0m\n\u001B[0m\u001B[1;32m     74\u001B[0m \u001B[0;34m\u001B[0m\u001B[0m\n\u001B[1;32m     75\u001B[0m         \u001B[0;31m# Load inner measurements csvs into dataframes\u001B[0m\u001B[0;34m\u001B[0m\u001B[0;34m\u001B[0m\u001B[0;34m\u001B[0m\u001B[0m\n",
      "\u001B[0;32m~/miniconda/envs/air/lib/python3.9/site-packages/pandas/core/frame.py\u001B[0m in \u001B[0;36mapply\u001B[0;34m(self, func, axis, raw, result_type, args, **kwds)\u001B[0m\n\u001B[1;32m   7766\u001B[0m             \u001B[0mkwds\u001B[0m\u001B[0;34m=\u001B[0m\u001B[0mkwds\u001B[0m\u001B[0;34m,\u001B[0m\u001B[0;34m\u001B[0m\u001B[0;34m\u001B[0m\u001B[0m\n\u001B[1;32m   7767\u001B[0m         )\n\u001B[0;32m-> 7768\u001B[0;31m         \u001B[0;32mreturn\u001B[0m \u001B[0mop\u001B[0m\u001B[0;34m.\u001B[0m\u001B[0mget_result\u001B[0m\u001B[0;34m(\u001B[0m\u001B[0;34m)\u001B[0m\u001B[0;34m\u001B[0m\u001B[0;34m\u001B[0m\u001B[0m\n\u001B[0m\u001B[1;32m   7769\u001B[0m \u001B[0;34m\u001B[0m\u001B[0m\n\u001B[1;32m   7770\u001B[0m     \u001B[0;32mdef\u001B[0m \u001B[0mapplymap\u001B[0m\u001B[0;34m(\u001B[0m\u001B[0mself\u001B[0m\u001B[0;34m,\u001B[0m \u001B[0mfunc\u001B[0m\u001B[0;34m,\u001B[0m \u001B[0mna_action\u001B[0m\u001B[0;34m:\u001B[0m \u001B[0mOptional\u001B[0m\u001B[0;34m[\u001B[0m\u001B[0mstr\u001B[0m\u001B[0;34m]\u001B[0m \u001B[0;34m=\u001B[0m \u001B[0;32mNone\u001B[0m\u001B[0;34m)\u001B[0m \u001B[0;34m->\u001B[0m \u001B[0mDataFrame\u001B[0m\u001B[0;34m:\u001B[0m\u001B[0;34m\u001B[0m\u001B[0;34m\u001B[0m\u001B[0m\n",
      "\u001B[0;32m~/miniconda/envs/air/lib/python3.9/site-packages/pandas/core/apply.py\u001B[0m in \u001B[0;36mget_result\u001B[0;34m(self)\u001B[0m\n\u001B[1;32m    183\u001B[0m             \u001B[0;32mreturn\u001B[0m \u001B[0mself\u001B[0m\u001B[0;34m.\u001B[0m\u001B[0mapply_raw\u001B[0m\u001B[0;34m(\u001B[0m\u001B[0;34m)\u001B[0m\u001B[0;34m\u001B[0m\u001B[0;34m\u001B[0m\u001B[0m\n\u001B[1;32m    184\u001B[0m \u001B[0;34m\u001B[0m\u001B[0m\n\u001B[0;32m--> 185\u001B[0;31m         \u001B[0;32mreturn\u001B[0m \u001B[0mself\u001B[0m\u001B[0;34m.\u001B[0m\u001B[0mapply_standard\u001B[0m\u001B[0;34m(\u001B[0m\u001B[0;34m)\u001B[0m\u001B[0;34m\u001B[0m\u001B[0;34m\u001B[0m\u001B[0m\n\u001B[0m\u001B[1;32m    186\u001B[0m \u001B[0;34m\u001B[0m\u001B[0m\n\u001B[1;32m    187\u001B[0m     \u001B[0;32mdef\u001B[0m \u001B[0mapply_empty_result\u001B[0m\u001B[0;34m(\u001B[0m\u001B[0mself\u001B[0m\u001B[0;34m)\u001B[0m\u001B[0;34m:\u001B[0m\u001B[0;34m\u001B[0m\u001B[0;34m\u001B[0m\u001B[0m\n",
      "\u001B[0;32m~/miniconda/envs/air/lib/python3.9/site-packages/pandas/core/apply.py\u001B[0m in \u001B[0;36mapply_standard\u001B[0;34m(self)\u001B[0m\n\u001B[1;32m    274\u001B[0m \u001B[0;34m\u001B[0m\u001B[0m\n\u001B[1;32m    275\u001B[0m     \u001B[0;32mdef\u001B[0m \u001B[0mapply_standard\u001B[0m\u001B[0;34m(\u001B[0m\u001B[0mself\u001B[0m\u001B[0;34m)\u001B[0m\u001B[0;34m:\u001B[0m\u001B[0;34m\u001B[0m\u001B[0;34m\u001B[0m\u001B[0m\n\u001B[0;32m--> 276\u001B[0;31m         \u001B[0mresults\u001B[0m\u001B[0;34m,\u001B[0m \u001B[0mres_index\u001B[0m \u001B[0;34m=\u001B[0m \u001B[0mself\u001B[0m\u001B[0;34m.\u001B[0m\u001B[0mapply_series_generator\u001B[0m\u001B[0;34m(\u001B[0m\u001B[0;34m)\u001B[0m\u001B[0;34m\u001B[0m\u001B[0;34m\u001B[0m\u001B[0m\n\u001B[0m\u001B[1;32m    277\u001B[0m \u001B[0;34m\u001B[0m\u001B[0m\n\u001B[1;32m    278\u001B[0m         \u001B[0;31m# wrap results\u001B[0m\u001B[0;34m\u001B[0m\u001B[0;34m\u001B[0m\u001B[0;34m\u001B[0m\u001B[0m\n",
      "\u001B[0;32m~/miniconda/envs/air/lib/python3.9/site-packages/pandas/core/apply.py\u001B[0m in \u001B[0;36mapply_series_generator\u001B[0;34m(self)\u001B[0m\n\u001B[1;32m    288\u001B[0m             \u001B[0;32mfor\u001B[0m \u001B[0mi\u001B[0m\u001B[0;34m,\u001B[0m \u001B[0mv\u001B[0m \u001B[0;32min\u001B[0m \u001B[0menumerate\u001B[0m\u001B[0;34m(\u001B[0m\u001B[0mseries_gen\u001B[0m\u001B[0;34m)\u001B[0m\u001B[0;34m:\u001B[0m\u001B[0;34m\u001B[0m\u001B[0;34m\u001B[0m\u001B[0m\n\u001B[1;32m    289\u001B[0m                 \u001B[0;31m# ignore SettingWithCopy here in case the user mutates\u001B[0m\u001B[0;34m\u001B[0m\u001B[0;34m\u001B[0m\u001B[0;34m\u001B[0m\u001B[0m\n\u001B[0;32m--> 290\u001B[0;31m                 \u001B[0mresults\u001B[0m\u001B[0;34m[\u001B[0m\u001B[0mi\u001B[0m\u001B[0;34m]\u001B[0m \u001B[0;34m=\u001B[0m \u001B[0mself\u001B[0m\u001B[0;34m.\u001B[0m\u001B[0mf\u001B[0m\u001B[0;34m(\u001B[0m\u001B[0mv\u001B[0m\u001B[0;34m)\u001B[0m\u001B[0;34m\u001B[0m\u001B[0;34m\u001B[0m\u001B[0m\n\u001B[0m\u001B[1;32m    291\u001B[0m                 \u001B[0;32mif\u001B[0m \u001B[0misinstance\u001B[0m\u001B[0;34m(\u001B[0m\u001B[0mresults\u001B[0m\u001B[0;34m[\u001B[0m\u001B[0mi\u001B[0m\u001B[0;34m]\u001B[0m\u001B[0;34m,\u001B[0m \u001B[0mABCSeries\u001B[0m\u001B[0;34m)\u001B[0m\u001B[0;34m:\u001B[0m\u001B[0;34m\u001B[0m\u001B[0;34m\u001B[0m\u001B[0m\n\u001B[1;32m    292\u001B[0m                     \u001B[0;31m# If we have a view on v, we need to make a copy because\u001B[0m\u001B[0;34m\u001B[0m\u001B[0;34m\u001B[0m\u001B[0;34m\u001B[0m\u001B[0m\n",
      "\u001B[0;32m~/AirSeg/Air_Flow_ImaLife/airway_analysis/bronchipy/tree/airwaytree.py\u001B[0m in \u001B[0;36m<lambda>\u001B[0;34m(row)\u001B[0m\n\u001B[1;32m     71\u001B[0m         \u001B[0mbranch_df\u001B[0m\u001B[0;34m[\u001B[0m\u001B[0;34m'num_points'\u001B[0m\u001B[0;34m]\u001B[0m \u001B[0;34m=\u001B[0m \u001B[0mbranch_df\u001B[0m\u001B[0;34m.\u001B[0m\u001B[0mapply\u001B[0m\u001B[0;34m(\u001B[0m\u001B[0;32mlambda\u001B[0m \u001B[0mrow\u001B[0m\u001B[0;34m:\u001B[0m \u001B[0mlen\u001B[0m\u001B[0;34m(\u001B[0m\u001B[0mrow\u001B[0m\u001B[0;34m.\u001B[0m\u001B[0mpoints\u001B[0m\u001B[0;34m)\u001B[0m\u001B[0;34m,\u001B[0m \u001B[0maxis\u001B[0m\u001B[0;34m=\u001B[0m\u001B[0;36m1\u001B[0m\u001B[0;34m)\u001B[0m\u001B[0;34m\u001B[0m\u001B[0;34m\u001B[0m\u001B[0m\n\u001B[1;32m     72\u001B[0m         \u001B[0;31m# Calculate and add the branch lengths in mm.\u001B[0m\u001B[0;34m\u001B[0m\u001B[0;34m\u001B[0m\u001B[0;34m\u001B[0m\u001B[0m\n\u001B[0;32m---> 73\u001B[0;31m         \u001B[0mbranch_df\u001B[0m\u001B[0;34m[\u001B[0m\u001B[0;34m'length'\u001B[0m\u001B[0;34m]\u001B[0m \u001B[0;34m=\u001B[0m \u001B[0mbranch_df\u001B[0m\u001B[0;34m.\u001B[0m\u001B[0mapply\u001B[0m\u001B[0;34m(\u001B[0m\u001B[0;32mlambda\u001B[0m \u001B[0mrow\u001B[0m\u001B[0;34m:\u001B[0m \u001B[0mcalc_branch_length\u001B[0m\u001B[0;34m(\u001B[0m\u001B[0mrow\u001B[0m\u001B[0;34m.\u001B[0m\u001B[0mpoints\u001B[0m\u001B[0;34m)\u001B[0m\u001B[0;34m,\u001B[0m \u001B[0maxis\u001B[0m\u001B[0;34m=\u001B[0m\u001B[0;36m1\u001B[0m\u001B[0;34m)\u001B[0m\u001B[0;34m\u001B[0m\u001B[0;34m\u001B[0m\u001B[0m\n\u001B[0m\u001B[1;32m     74\u001B[0m \u001B[0;34m\u001B[0m\u001B[0m\n\u001B[1;32m     75\u001B[0m         \u001B[0;31m# Load inner measurements csvs into dataframes\u001B[0m\u001B[0;34m\u001B[0m\u001B[0;34m\u001B[0m\u001B[0;34m\u001B[0m\u001B[0m\n",
      "\u001B[0;32m~/AirSeg/Air_Flow_ImaLife/airway_analysis/bronchipy/calc/measure_airways.py\u001B[0m in \u001B[0;36mcalc_branch_length\u001B[0;34m(points)\u001B[0m\n\u001B[1;32m     18\u001B[0m     \"\"\"\n\u001B[1;32m     19\u001B[0m     \u001B[0mbranch_length\u001B[0m \u001B[0;34m=\u001B[0m \u001B[0;36m0\u001B[0m\u001B[0;34m\u001B[0m\u001B[0;34m\u001B[0m\u001B[0m\n\u001B[0;32m---> 20\u001B[0;31m     \u001B[0mpoints_arr\u001B[0m \u001B[0;34m=\u001B[0m \u001B[0mnp\u001B[0m\u001B[0;34m.\u001B[0m\u001B[0marray\u001B[0m\u001B[0;34m(\u001B[0m\u001B[0mpoints\u001B[0m\u001B[0;34m)\u001B[0m\u001B[0;34m\u001B[0m\u001B[0;34m\u001B[0m\u001B[0m\n\u001B[0m\u001B[1;32m     21\u001B[0m     \u001B[0mlogging\u001B[0m\u001B[0;34m.\u001B[0m\u001B[0mdebug\u001B[0m\u001B[0;34m(\u001B[0m\u001B[0mpoints_arr\u001B[0m\u001B[0;34m)\u001B[0m\u001B[0;34m\u001B[0m\u001B[0;34m\u001B[0m\u001B[0m\n\u001B[1;32m     22\u001B[0m     \u001B[0mnum_points\u001B[0m \u001B[0;34m=\u001B[0m \u001B[0mpoints_arr\u001B[0m\u001B[0;34m.\u001B[0m\u001B[0mshape\u001B[0m\u001B[0;34m[\u001B[0m\u001B[0;36m1\u001B[0m\u001B[0;34m]\u001B[0m\u001B[0;34m\u001B[0m\u001B[0;34m\u001B[0m\u001B[0m\n",
      "\u001B[0;31mAttributeError\u001B[0m: 'list' object has no attribute 'shape'"
     ]
    }
   ],
   "source": [
    "# 6.  Process using airway analysis tools for summary.\n",
    "phantom = AirwayTree(branch_file=branch_file, inner_file=inner_file, outer_file=outer_file,\n",
    "                     inner_radius_file=inner_local, outer_radius_file=outer_local, volume=volume)\n",
    "phantom.tree.tail()"
   ],
   "metadata": {
    "collapsed": false,
    "pycharm": {
     "name": "#%%\n"
    }
   }
  },
  {
   "cell_type": "code",
   "execution_count": null,
   "outputs": [],
   "source": [],
   "metadata": {
    "collapsed": false,
    "pycharm": {
     "name": "#%%\n"
    }
   }
  }
 ],
 "metadata": {
  "kernelspec": {
   "display_name": "Python 3",
   "language": "python",
   "name": "python3"
  },
  "language_info": {
   "codemirror_mode": {
    "name": "ipython",
    "version": 2
   },
   "file_extension": ".py",
   "mimetype": "text/x-python",
   "name": "python",
   "nbconvert_exporter": "python",
   "pygments_lexer": "ipython2",
   "version": "2.7.6"
  }
 },
 "nbformat": 4,
 "nbformat_minor": 0
}