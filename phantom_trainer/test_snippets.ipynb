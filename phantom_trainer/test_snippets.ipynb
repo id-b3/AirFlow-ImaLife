{
 "cells": [
  {
   "cell_type": "code",
   "execution_count": 1,
   "outputs": [],
   "source": [
    "import logging\n",
    "\n",
    "import pandas as pd\n",
    "\n",
    "from airway_analysis.bronchipy.tree.airwaytree import AirwayTree"
   ],
   "metadata": {
    "collapsed": false,
    "pycharm": {
     "name": "#%%\n"
    }
   }
  },
  {
   "cell_type": "code",
   "execution_count": 2,
   "outputs": [],
   "source": [
    "logging.basicConfig(level=logging.DEBUG)\n",
    "run_out_dir = \"./results\"\n",
    "volume = \"./results/phantom_volume_surface0.nii.gz\""
   ],
   "metadata": {
    "collapsed": false,
    "pycharm": {
     "name": "#%%\n"
    }
   }
  },
  {
   "cell_type": "code",
   "execution_count": 3,
   "outputs": [],
   "source": [
    "inner_file = f\"{run_out_dir}/inner.csv\"\n",
    "outer_file = f\"{run_out_dir}/outer.csv\"\n",
    "inner_local = f\"{run_out_dir}/inner_local.csv\"\n",
    "outer_local = f\"{run_out_dir}/outer_local.csv\"\n",
    "branch_file = f\"{run_out_dir}/branches.csv\"\n"
   ],
   "metadata": {
    "collapsed": false,
    "pycharm": {
     "name": "#%%\n"
    }
   }
  },
  {
   "cell_type": "code",
   "execution_count": 4,
   "outputs": [
    {
     "name": "stderr",
     "output_type": "stream",
     "text": [
      "INFO:root:Loading branch csv ./results/branches.csv...\n",
      "INFO:root:Success!\n",
      "DEBUG:root:Index(['branch', 'generation', 'parent', 'children', 'points', 'centreline'], dtype='object')\n",
      "DEBUG:root:Number of points loaded 73\n",
      "DEBUG:root:Total centreline length 71.99999938293656\n",
      "DEBUG:root:Number of points loaded 72\n",
      "DEBUG:root:Total centreline length 70.99999987928042\n",
      "DEBUG:root:Number of points loaded 73\n",
      "DEBUG:root:Total centreline length 71.99999931597048\n",
      "DEBUG:root:Number of points loaded 73\n",
      "DEBUG:root:Total centreline length 72.00000032055978\n",
      "DEBUG:root:Number of points loaded 81\n",
      "DEBUG:root:Total centreline length 79.99999986885092\n",
      "DEBUG:root:Number of points loaded 76\n",
      "DEBUG:root:Total centreline length 74.99999986759687\n",
      "DEBUG:root:Number of points loaded 13\n",
      "DEBUG:root:Total centreline length 11.999999745445601\n",
      "DEBUG:root:Number of points loaded 1\n",
      "DEBUG:root:Total centreline length 0\n",
      "INFO:root:Loading global csv ./results/inner.csv...\n",
      "INFO:root:Success!\n",
      "INFO:root:Loading local csv ./results/inner_local.csv...\n",
      "INFO:root:Success!\n",
      "INFO:root:Loading global csv ./results/outer.csv...\n",
      "INFO:root:Success!\n",
      "INFO:root:Loading local csv ./results/outer_local.csv...\n",
      "INFO:root:Success!\n",
      "DEBUG:root:branch         object\n",
      "outer_radii     int64\n",
      "dtype: object\n",
      "DEBUG:root:branch          int64\n",
      "generation      int64\n",
      "parent          int64\n",
      "children       object\n",
      "points         object\n",
      "centreline     object\n",
      "num_points      int64\n",
      "length        float64\n",
      "dtype: object\n",
      "DEBUG:root:branch                 int64\n",
      "inner_radius         float64\n",
      "inner_intensity      float64\n",
      "inner_samples          int64\n",
      "inner_global_area    float64\n",
      "dtype: object\n",
      "DEBUG:root:branch          int64\n",
      "inner_radii    object\n",
      "dtype: object\n",
      "DEBUG:root:branch                 int64\n",
      "outer_radius         float64\n",
      "outer_intensity      float64\n",
      "outer_samples          int64\n",
      "outer_global_area    float64\n",
      "dtype: object\n",
      "DEBUG:root:branch         object\n",
      "outer_radii     int64\n",
      "dtype: object\n"
     ]
    },
    {
     "ename": "ValueError",
     "evalue": "You are trying to merge on int64 and object columns. If you wish to proceed you should use pd.concat",
     "output_type": "error",
     "traceback": [
      "\u001B[0;31m---------------------------------------------------------------------------\u001B[0m",
      "\u001B[0;31mValueError\u001B[0m                                Traceback (most recent call last)",
      "\u001B[0;32m<ipython-input-4-99415f56edca>\u001B[0m in \u001B[0;36m<module>\u001B[0;34m\u001B[0m\n\u001B[1;32m      1\u001B[0m \u001B[0;31m# 6.  Process using airway analysis tools for summary.\u001B[0m\u001B[0;34m\u001B[0m\u001B[0;34m\u001B[0m\u001B[0;34m\u001B[0m\u001B[0m\n\u001B[0;32m----> 2\u001B[0;31m phantom = AirwayTree(branch_file=branch_file, inner_file=inner_file, outer_file=outer_file,\n\u001B[0m\u001B[1;32m      3\u001B[0m                      inner_radius_file=inner_local, outer_radius_file=outer_local, volume=volume)\n\u001B[1;32m      4\u001B[0m \u001B[0mphantom\u001B[0m\u001B[0;34m.\u001B[0m\u001B[0mtree\u001B[0m\u001B[0;34m.\u001B[0m\u001B[0mtail\u001B[0m\u001B[0;34m(\u001B[0m\u001B[0;34m)\u001B[0m\u001B[0;34m\u001B[0m\u001B[0;34m\u001B[0m\u001B[0m\n\u001B[1;32m      5\u001B[0m \u001B[0;34m\u001B[0m\u001B[0m\n",
      "\u001B[0;32m~/AirSeg/Air_Flow_ImaLife/airway_analysis/bronchipy/tree/airwaytree.py\u001B[0m in \u001B[0;36m__init__\u001B[0;34m(self, **kwargs)\u001B[0m\n\u001B[1;32m     52\u001B[0m                           \u001B[0;34m'inner_rad'\u001B[0m\u001B[0;34m:\u001B[0m \u001B[0mkwargs\u001B[0m\u001B[0;34m.\u001B[0m\u001B[0mget\u001B[0m\u001B[0;34m(\u001B[0m\u001B[0;34m'inner_radius_file'\u001B[0m\u001B[0;34m,\u001B[0m \u001B[0;32mNone\u001B[0m\u001B[0;34m)\u001B[0m\u001B[0;34m,\u001B[0m \u001B[0;34m'outer'\u001B[0m\u001B[0;34m:\u001B[0m \u001B[0mkwargs\u001B[0m\u001B[0;34m.\u001B[0m\u001B[0mget\u001B[0m\u001B[0;34m(\u001B[0m\u001B[0;34m'outer_file'\u001B[0m\u001B[0;34m,\u001B[0m \u001B[0;32mNone\u001B[0m\u001B[0;34m)\u001B[0m\u001B[0;34m,\u001B[0m\u001B[0;34m\u001B[0m\u001B[0;34m\u001B[0m\u001B[0m\n\u001B[1;32m     53\u001B[0m                           'outer_rad': kwargs.get('outer_radius_file', None), 'vol': kwargs.get('volume', None)}\n\u001B[0;32m---> 54\u001B[0;31m             \u001B[0mself\u001B[0m\u001B[0;34m.\u001B[0m\u001B[0mtree\u001B[0m \u001B[0;34m=\u001B[0m \u001B[0mself\u001B[0m\u001B[0;34m.\u001B[0m\u001B[0morganise_tree\u001B[0m\u001B[0;34m(\u001B[0m\u001B[0;34m)\u001B[0m  \u001B[0;31m#: only necessary if the tree_csv has not been previously made.\u001B[0m\u001B[0;34m\u001B[0m\u001B[0;34m\u001B[0m\u001B[0m\n\u001B[0m\u001B[1;32m     55\u001B[0m \u001B[0;34m\u001B[0m\u001B[0m\n\u001B[1;32m     56\u001B[0m     \u001B[0;32mdef\u001B[0m \u001B[0morganise_tree\u001B[0m\u001B[0;34m(\u001B[0m\u001B[0mself\u001B[0m\u001B[0;34m)\u001B[0m \u001B[0;34m->\u001B[0m \u001B[0mpd\u001B[0m\u001B[0;34m.\u001B[0m\u001B[0mDataFrame\u001B[0m\u001B[0;34m:\u001B[0m\u001B[0;34m\u001B[0m\u001B[0;34m\u001B[0m\u001B[0m\n",
      "\u001B[0;32m~/AirSeg/Air_Flow_ImaLife/airway_analysis/bronchipy/tree/airwaytree.py\u001B[0m in \u001B[0;36morganise_tree\u001B[0;34m(self)\u001B[0m\n\u001B[1;32m     94\u001B[0m             \u001B[0mlogging\u001B[0m\u001B[0;34m.\u001B[0m\u001B[0mdebug\u001B[0m\u001B[0;34m(\u001B[0m\u001B[0mdf\u001B[0m\u001B[0;34m.\u001B[0m\u001B[0mdtypes\u001B[0m\u001B[0;34m)\u001B[0m\u001B[0;34m\u001B[0m\u001B[0;34m\u001B[0m\u001B[0m\n\u001B[1;32m     95\u001B[0m \u001B[0;34m\u001B[0m\u001B[0m\n\u001B[0;32m---> 96\u001B[0;31m         \u001B[0morganised_tree\u001B[0m \u001B[0;34m=\u001B[0m \u001B[0mreduce\u001B[0m\u001B[0;34m(\u001B[0m\u001B[0;32mlambda\u001B[0m \u001B[0mleft\u001B[0m\u001B[0;34m,\u001B[0m \u001B[0mright\u001B[0m\u001B[0;34m:\u001B[0m \u001B[0mpd\u001B[0m\u001B[0;34m.\u001B[0m\u001B[0mmerge\u001B[0m\u001B[0;34m(\u001B[0m\u001B[0mleft\u001B[0m\u001B[0;34m,\u001B[0m \u001B[0mright\u001B[0m\u001B[0;34m,\u001B[0m \u001B[0mon\u001B[0m\u001B[0;34m=\u001B[0m\u001B[0;34m[\u001B[0m\u001B[0;34m'branch'\u001B[0m\u001B[0;34m]\u001B[0m\u001B[0;34m,\u001B[0m \u001B[0mhow\u001B[0m\u001B[0;34m=\u001B[0m\u001B[0;34m'outer'\u001B[0m\u001B[0;34m)\u001B[0m\u001B[0;34m,\u001B[0m \u001B[0mall_dfs\u001B[0m\u001B[0;34m)\u001B[0m\u001B[0;34m\u001B[0m\u001B[0;34m\u001B[0m\u001B[0m\n\u001B[0m\u001B[1;32m     97\u001B[0m         \u001B[0morganised_tree\u001B[0m\u001B[0;34m.\u001B[0m\u001B[0mset_index\u001B[0m\u001B[0;34m(\u001B[0m\u001B[0;34m'branch'\u001B[0m\u001B[0;34m,\u001B[0m \u001B[0minplace\u001B[0m\u001B[0;34m=\u001B[0m\u001B[0;32mTrue\u001B[0m\u001B[0;34m)\u001B[0m\u001B[0;34m\u001B[0m\u001B[0;34m\u001B[0m\u001B[0m\n\u001B[1;32m     98\u001B[0m \u001B[0;34m\u001B[0m\u001B[0m\n",
      "\u001B[0;32m~/AirSeg/Air_Flow_ImaLife/airway_analysis/bronchipy/tree/airwaytree.py\u001B[0m in \u001B[0;36m<lambda>\u001B[0;34m(left, right)\u001B[0m\n\u001B[1;32m     94\u001B[0m             \u001B[0mlogging\u001B[0m\u001B[0;34m.\u001B[0m\u001B[0mdebug\u001B[0m\u001B[0;34m(\u001B[0m\u001B[0mdf\u001B[0m\u001B[0;34m.\u001B[0m\u001B[0mdtypes\u001B[0m\u001B[0;34m)\u001B[0m\u001B[0;34m\u001B[0m\u001B[0;34m\u001B[0m\u001B[0m\n\u001B[1;32m     95\u001B[0m \u001B[0;34m\u001B[0m\u001B[0m\n\u001B[0;32m---> 96\u001B[0;31m         \u001B[0morganised_tree\u001B[0m \u001B[0;34m=\u001B[0m \u001B[0mreduce\u001B[0m\u001B[0;34m(\u001B[0m\u001B[0;32mlambda\u001B[0m \u001B[0mleft\u001B[0m\u001B[0;34m,\u001B[0m \u001B[0mright\u001B[0m\u001B[0;34m:\u001B[0m \u001B[0mpd\u001B[0m\u001B[0;34m.\u001B[0m\u001B[0mmerge\u001B[0m\u001B[0;34m(\u001B[0m\u001B[0mleft\u001B[0m\u001B[0;34m,\u001B[0m \u001B[0mright\u001B[0m\u001B[0;34m,\u001B[0m \u001B[0mon\u001B[0m\u001B[0;34m=\u001B[0m\u001B[0;34m[\u001B[0m\u001B[0;34m'branch'\u001B[0m\u001B[0;34m]\u001B[0m\u001B[0;34m,\u001B[0m \u001B[0mhow\u001B[0m\u001B[0;34m=\u001B[0m\u001B[0;34m'outer'\u001B[0m\u001B[0;34m)\u001B[0m\u001B[0;34m,\u001B[0m \u001B[0mall_dfs\u001B[0m\u001B[0;34m)\u001B[0m\u001B[0;34m\u001B[0m\u001B[0;34m\u001B[0m\u001B[0m\n\u001B[0m\u001B[1;32m     97\u001B[0m         \u001B[0morganised_tree\u001B[0m\u001B[0;34m.\u001B[0m\u001B[0mset_index\u001B[0m\u001B[0;34m(\u001B[0m\u001B[0;34m'branch'\u001B[0m\u001B[0;34m,\u001B[0m \u001B[0minplace\u001B[0m\u001B[0;34m=\u001B[0m\u001B[0;32mTrue\u001B[0m\u001B[0;34m)\u001B[0m\u001B[0;34m\u001B[0m\u001B[0;34m\u001B[0m\u001B[0m\n\u001B[1;32m     98\u001B[0m \u001B[0;34m\u001B[0m\u001B[0m\n",
      "\u001B[0;32m~/miniconda/envs/air/lib/python3.9/site-packages/pandas/core/reshape/merge.py\u001B[0m in \u001B[0;36mmerge\u001B[0;34m(left, right, how, on, left_on, right_on, left_index, right_index, sort, suffixes, copy, indicator, validate)\u001B[0m\n\u001B[1;32m     72\u001B[0m     \u001B[0mvalidate\u001B[0m\u001B[0;34m=\u001B[0m\u001B[0;32mNone\u001B[0m\u001B[0;34m,\u001B[0m\u001B[0;34m\u001B[0m\u001B[0;34m\u001B[0m\u001B[0m\n\u001B[1;32m     73\u001B[0m ) -> \"DataFrame\":\n\u001B[0;32m---> 74\u001B[0;31m     op = _MergeOperation(\n\u001B[0m\u001B[1;32m     75\u001B[0m         \u001B[0mleft\u001B[0m\u001B[0;34m,\u001B[0m\u001B[0;34m\u001B[0m\u001B[0;34m\u001B[0m\u001B[0m\n\u001B[1;32m     76\u001B[0m         \u001B[0mright\u001B[0m\u001B[0;34m,\u001B[0m\u001B[0;34m\u001B[0m\u001B[0;34m\u001B[0m\u001B[0m\n",
      "\u001B[0;32m~/miniconda/envs/air/lib/python3.9/site-packages/pandas/core/reshape/merge.py\u001B[0m in \u001B[0;36m__init__\u001B[0;34m(self, left, right, how, on, left_on, right_on, axis, left_index, right_index, sort, suffixes, copy, indicator, validate)\u001B[0m\n\u001B[1;32m    670\u001B[0m         \u001B[0;31m# validate the merge keys dtypes. We may need to coerce\u001B[0m\u001B[0;34m\u001B[0m\u001B[0;34m\u001B[0m\u001B[0;34m\u001B[0m\u001B[0m\n\u001B[1;32m    671\u001B[0m         \u001B[0;31m# to avoid incompatible dtypes\u001B[0m\u001B[0;34m\u001B[0m\u001B[0;34m\u001B[0m\u001B[0;34m\u001B[0m\u001B[0m\n\u001B[0;32m--> 672\u001B[0;31m         \u001B[0mself\u001B[0m\u001B[0;34m.\u001B[0m\u001B[0m_maybe_coerce_merge_keys\u001B[0m\u001B[0;34m(\u001B[0m\u001B[0;34m)\u001B[0m\u001B[0;34m\u001B[0m\u001B[0;34m\u001B[0m\u001B[0m\n\u001B[0m\u001B[1;32m    673\u001B[0m \u001B[0;34m\u001B[0m\u001B[0m\n\u001B[1;32m    674\u001B[0m         \u001B[0;31m# If argument passed to validate,\u001B[0m\u001B[0;34m\u001B[0m\u001B[0;34m\u001B[0m\u001B[0;34m\u001B[0m\u001B[0m\n",
      "\u001B[0;32m~/miniconda/envs/air/lib/python3.9/site-packages/pandas/core/reshape/merge.py\u001B[0m in \u001B[0;36m_maybe_coerce_merge_keys\u001B[0;34m(self)\u001B[0m\n\u001B[1;32m   1191\u001B[0m                     \u001B[0minferred_right\u001B[0m \u001B[0;32min\u001B[0m \u001B[0mstring_types\u001B[0m \u001B[0;32mand\u001B[0m \u001B[0minferred_left\u001B[0m \u001B[0;32mnot\u001B[0m \u001B[0;32min\u001B[0m \u001B[0mstring_types\u001B[0m\u001B[0;34m\u001B[0m\u001B[0;34m\u001B[0m\u001B[0m\n\u001B[1;32m   1192\u001B[0m                 ):\n\u001B[0;32m-> 1193\u001B[0;31m                     \u001B[0;32mraise\u001B[0m \u001B[0mValueError\u001B[0m\u001B[0;34m(\u001B[0m\u001B[0mmsg\u001B[0m\u001B[0;34m)\u001B[0m\u001B[0;34m\u001B[0m\u001B[0;34m\u001B[0m\u001B[0m\n\u001B[0m\u001B[1;32m   1194\u001B[0m \u001B[0;34m\u001B[0m\u001B[0m\n\u001B[1;32m   1195\u001B[0m             \u001B[0;31m# datetimelikes must match exactly\u001B[0m\u001B[0;34m\u001B[0m\u001B[0;34m\u001B[0m\u001B[0;34m\u001B[0m\u001B[0m\n",
      "\u001B[0;31mValueError\u001B[0m: You are trying to merge on int64 and object columns. If you wish to proceed you should use pd.concat"
     ]
    }
   ],
   "source": [
    "# 6.  Process using airway analysis tools for summary.\n",
    "phantom = AirwayTree(branch_file=branch_file, inner_file=inner_file, outer_file=outer_file,\n",
    "                     inner_radius_file=inner_local, outer_radius_file=outer_local, volume=volume)\n",
    "phantom.tree.tail()"
   ],
   "metadata": {
    "collapsed": false,
    "pycharm": {
     "name": "#%%\n"
    }
   }
  },
  {
   "cell_type": "code",
   "execution_count": 5,
   "outputs": [
    {
     "data": {
      "text/plain": "branch     int64\nradii     object\ndtype: object"
     },
     "execution_count": 5,
     "metadata": {},
     "output_type": "execute_result"
    }
   ],
   "source": [
    "inner = pd.read_csv(inner_local, delimiter=\";\")\n",
    "inner.dtypes"
   ],
   "metadata": {
    "collapsed": false,
    "pycharm": {
     "name": "#%%\n"
    }
   }
  },
  {
   "cell_type": "code",
   "execution_count": null,
   "outputs": [],
   "source": [],
   "metadata": {
    "collapsed": false,
    "pycharm": {
     "name": "#%%\n"
    }
   }
  }
 ],
 "metadata": {
  "kernelspec": {
   "display_name": "Python 3",
   "language": "python",
   "name": "python3"
  },
  "language_info": {
   "codemirror_mode": {
    "name": "ipython",
    "version": 2
   },
   "file_extension": ".py",
   "mimetype": "text/x-python",
   "name": "python",
   "nbconvert_exporter": "python",
   "pygments_lexer": "ipython2",
   "version": "2.7.6"
  }
 },
 "nbformat": 4,
 "nbformat_minor": 0
}