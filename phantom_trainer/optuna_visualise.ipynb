{
 "cells": [
  {
   "cell_type": "code",
   "execution_count": 4,
   "metadata": {
    "collapsed": true
   },
   "outputs": [],
   "source": [
    "import optuna\n",
    "from optuna.visualization import plot_contour, plot_parallel_coordinate"
   ]
  },
  {
   "cell_type": "code",
   "execution_count": 5,
   "outputs": [
    {
     "name": "stderr",
     "output_type": "stream",
     "text": [
      "\u001B[32m[I 2021-08-20 13:12:33,913]\u001B[0m A new study created in memory with name: no-name-2cc02482-a899-4051-9f3a-5969b15a12b1\u001B[0m\n",
      "\u001B[32m[I 2021-08-20 13:12:33,916]\u001B[0m Trial 0 finished with value: 1.876267072750196 and parameters: {'x': 0.6302310148239609}. Best is trial 0 with value: 1.876267072750196.\u001B[0m\n",
      "\u001B[32m[I 2021-08-20 13:12:33,918]\u001B[0m Trial 1 finished with value: 30.70236926881227 and parameters: {'x': 7.540971870422396}. Best is trial 0 with value: 1.876267072750196.\u001B[0m\n",
      "\u001B[32m[I 2021-08-20 13:12:33,919]\u001B[0m Trial 2 finished with value: 15.624794263989077 and parameters: {'x': 5.95282105134916}. Best is trial 0 with value: 1.876267072750196.\u001B[0m\n",
      "\u001B[32m[I 2021-08-20 13:12:33,921]\u001B[0m Trial 3 finished with value: 17.125307248273565 and parameters: {'x': -2.1382734622392423}. Best is trial 0 with value: 1.876267072750196.\u001B[0m\n",
      "\u001B[32m[I 2021-08-20 13:12:33,922]\u001B[0m Trial 4 finished with value: 27.572066714965178 and parameters: {'x': -3.2509110366645118}. Best is trial 0 with value: 1.876267072750196.\u001B[0m\n",
      "\u001B[32m[I 2021-08-20 13:12:33,924]\u001B[0m Trial 5 finished with value: 0.13258424597959872 and parameters: {'x': 1.6358788031718028}. Best is trial 5 with value: 0.13258424597959872.\u001B[0m\n",
      "\u001B[32m[I 2021-08-20 13:12:33,927]\u001B[0m Trial 6 finished with value: 92.03396181566097 and parameters: {'x': -7.593433265294598}. Best is trial 5 with value: 0.13258424597959872.\u001B[0m\n",
      "\u001B[32m[I 2021-08-20 13:12:33,928]\u001B[0m Trial 7 finished with value: 6.6842383755101675 and parameters: {'x': 4.585389405004625}. Best is trial 5 with value: 0.13258424597959872.\u001B[0m\n",
      "\u001B[32m[I 2021-08-20 13:12:33,930]\u001B[0m Trial 8 finished with value: 0.5698791955168928 and parameters: {'x': 2.7549034345642447}. Best is trial 5 with value: 0.13258424597959872.\u001B[0m\n",
      "\u001B[32m[I 2021-08-20 13:12:33,931]\u001B[0m Trial 9 finished with value: 0.000767550235486452 and parameters: {'x': 2.0277046969932258}. Best is trial 9 with value: 0.000767550235486452.\u001B[0m\n",
      "\u001B[32m[I 2021-08-20 13:12:33,938]\u001B[0m Trial 10 finished with value: 131.78140428010198 and parameters: {'x': -9.479608193666802}. Best is trial 9 with value: 0.000767550235486452.\u001B[0m\n",
      "\u001B[32m[I 2021-08-20 13:12:33,945]\u001B[0m Trial 11 finished with value: 60.0753181525862 and parameters: {'x': 9.750826933468854}. Best is trial 9 with value: 0.000767550235486452.\u001B[0m\n",
      "\u001B[32m[I 2021-08-20 13:12:33,952]\u001B[0m Trial 12 finished with value: 1.8567912593195146 and parameters: {'x': 0.6373587195011614}. Best is trial 9 with value: 0.000767550235486452.\u001B[0m\n",
      "\u001B[32m[I 2021-08-20 13:12:33,959]\u001B[0m Trial 13 finished with value: 12.717890126066909 and parameters: {'x': -1.566215098121103}. Best is trial 9 with value: 0.000767550235486452.\u001B[0m\n",
      "\u001B[32m[I 2021-08-20 13:12:33,966]\u001B[0m Trial 14 finished with value: 39.91789088402449 and parameters: {'x': -4.318060690118803}. Best is trial 9 with value: 0.000767550235486452.\u001B[0m\n",
      "\u001B[32m[I 2021-08-20 13:12:33,970]\u001B[0m Trial 15 finished with value: 0.8651633134754568 and parameters: {'x': 2.9301415556115407}. Best is trial 9 with value: 0.000767550235486452.\u001B[0m\n",
      "\u001B[32m[I 2021-08-20 13:12:33,974]\u001B[0m Trial 16 finished with value: 58.77229765370228 and parameters: {'x': -5.666309258939551}. Best is trial 9 with value: 0.000767550235486452.\u001B[0m\n",
      "\u001B[32m[I 2021-08-20 13:12:33,978]\u001B[0m Trial 17 finished with value: 0.2542651941968147 and parameters: {'x': 2.5042471558638826}. Best is trial 9 with value: 0.000767550235486452.\u001B[0m\n",
      "\u001B[32m[I 2021-08-20 13:12:33,982]\u001B[0m Trial 18 finished with value: 43.17583839911058 and parameters: {'x': 8.570832397733987}. Best is trial 9 with value: 0.000767550235486452.\u001B[0m\n",
      "\u001B[32m[I 2021-08-20 13:12:33,985]\u001B[0m Trial 19 finished with value: 7.022410733467133 and parameters: {'x': -0.6499831572044252}. Best is trial 9 with value: 0.000767550235486452.\u001B[0m\n"
     ]
    },
    {
     "ename": "ImportError",
     "evalue": "Tried to import 'plotly' but failed. Please make sure that the package is installed correctly to use this feature. Actual error: No module named 'plotly'.",
     "output_type": "error",
     "traceback": [
      "\u001B[0;31m---------------------------------------------------------------------------\u001B[0m",
      "\u001B[0;31mModuleNotFoundError\u001B[0m                       Traceback (most recent call last)",
      "\u001B[0;32m~/miniconda/envs/air/lib/python3.9/site-packages/optuna/visualization/_plotly_imports.py\u001B[0m in \u001B[0;36m<module>\u001B[0;34m\u001B[0m\n\u001B[1;32m      6\u001B[0m \u001B[0;32mwith\u001B[0m \u001B[0mtry_import\u001B[0m\u001B[0;34m(\u001B[0m\u001B[0;34m)\u001B[0m \u001B[0;32mas\u001B[0m \u001B[0m_imports\u001B[0m\u001B[0;34m:\u001B[0m  \u001B[0;31m# NOQA\u001B[0m\u001B[0;34m\u001B[0m\u001B[0;34m\u001B[0m\u001B[0m\n\u001B[0;32m----> 7\u001B[0;31m     \u001B[0;32mimport\u001B[0m \u001B[0mplotly\u001B[0m  \u001B[0;31m# NOQA\u001B[0m\u001B[0;34m\u001B[0m\u001B[0;34m\u001B[0m\u001B[0m\n\u001B[0m\u001B[1;32m      8\u001B[0m     \u001B[0;32mfrom\u001B[0m \u001B[0mplotly\u001B[0m \u001B[0;32mimport\u001B[0m \u001B[0m__version__\u001B[0m \u001B[0;32mas\u001B[0m \u001B[0mplotly_version\u001B[0m\u001B[0;34m\u001B[0m\u001B[0;34m\u001B[0m\u001B[0m\n",
      "\u001B[0;31mModuleNotFoundError\u001B[0m: No module named 'plotly'",
      "\nThe above exception was the direct cause of the following exception:\n",
      "\u001B[0;31mImportError\u001B[0m                               Traceback (most recent call last)",
      "\u001B[0;32m<ipython-input-5-22041001f8af>\u001B[0m in \u001B[0;36m<module>\u001B[0;34m\u001B[0m\n\u001B[1;32m      6\u001B[0m \u001B[0mstudy\u001B[0m\u001B[0;34m.\u001B[0m\u001B[0moptimize\u001B[0m\u001B[0;34m(\u001B[0m\u001B[0mobjective\u001B[0m\u001B[0;34m,\u001B[0m \u001B[0mn_trials\u001B[0m\u001B[0;34m=\u001B[0m\u001B[0;36m20\u001B[0m\u001B[0;34m)\u001B[0m\u001B[0;34m\u001B[0m\u001B[0;34m\u001B[0m\u001B[0m\n\u001B[1;32m      7\u001B[0m \u001B[0;34m\u001B[0m\u001B[0m\n\u001B[0;32m----> 8\u001B[0;31m \u001B[0mplot_parallel_coordinate\u001B[0m\u001B[0;34m(\u001B[0m\u001B[0mstudy\u001B[0m\u001B[0;34m)\u001B[0m\u001B[0;34m\u001B[0m\u001B[0;34m\u001B[0m\u001B[0m\n\u001B[0m",
      "\u001B[0;32m~/miniconda/envs/air/lib/python3.9/site-packages/optuna/visualization/_parallel_coordinate.py\u001B[0m in \u001B[0;36mplot_parallel_coordinate\u001B[0;34m(study, params, target, target_name)\u001B[0m\n\u001B[1;32m     82\u001B[0m     \"\"\"\n\u001B[1;32m     83\u001B[0m \u001B[0;34m\u001B[0m\u001B[0m\n\u001B[0;32m---> 84\u001B[0;31m     \u001B[0m_imports\u001B[0m\u001B[0;34m.\u001B[0m\u001B[0mcheck\u001B[0m\u001B[0;34m(\u001B[0m\u001B[0;34m)\u001B[0m\u001B[0;34m\u001B[0m\u001B[0;34m\u001B[0m\u001B[0m\n\u001B[0m\u001B[1;32m     85\u001B[0m     \u001B[0m_check_plot_args\u001B[0m\u001B[0;34m(\u001B[0m\u001B[0mstudy\u001B[0m\u001B[0;34m,\u001B[0m \u001B[0mtarget\u001B[0m\u001B[0;34m,\u001B[0m \u001B[0mtarget_name\u001B[0m\u001B[0;34m)\u001B[0m\u001B[0;34m\u001B[0m\u001B[0;34m\u001B[0m\u001B[0m\n\u001B[1;32m     86\u001B[0m     \u001B[0;32mreturn\u001B[0m \u001B[0m_get_parallel_coordinate_plot\u001B[0m\u001B[0;34m(\u001B[0m\u001B[0mstudy\u001B[0m\u001B[0;34m,\u001B[0m \u001B[0mparams\u001B[0m\u001B[0;34m,\u001B[0m \u001B[0mtarget\u001B[0m\u001B[0;34m,\u001B[0m \u001B[0mtarget_name\u001B[0m\u001B[0;34m)\u001B[0m\u001B[0;34m\u001B[0m\u001B[0;34m\u001B[0m\u001B[0m\n",
      "\u001B[0;32m~/miniconda/envs/air/lib/python3.9/site-packages/optuna/_imports.py\u001B[0m in \u001B[0;36mcheck\u001B[0;34m(self)\u001B[0m\n\u001B[1;32m     84\u001B[0m         \u001B[0;32mif\u001B[0m \u001B[0mself\u001B[0m\u001B[0;34m.\u001B[0m\u001B[0m_deferred\u001B[0m \u001B[0;32mis\u001B[0m \u001B[0;32mnot\u001B[0m \u001B[0;32mNone\u001B[0m\u001B[0;34m:\u001B[0m\u001B[0;34m\u001B[0m\u001B[0;34m\u001B[0m\u001B[0m\n\u001B[1;32m     85\u001B[0m             \u001B[0mexc_value\u001B[0m\u001B[0;34m,\u001B[0m \u001B[0mmessage\u001B[0m \u001B[0;34m=\u001B[0m \u001B[0mself\u001B[0m\u001B[0;34m.\u001B[0m\u001B[0m_deferred\u001B[0m\u001B[0;34m\u001B[0m\u001B[0;34m\u001B[0m\u001B[0m\n\u001B[0;32m---> 86\u001B[0;31m             \u001B[0;32mraise\u001B[0m \u001B[0mImportError\u001B[0m\u001B[0;34m(\u001B[0m\u001B[0mmessage\u001B[0m\u001B[0;34m)\u001B[0m \u001B[0;32mfrom\u001B[0m \u001B[0mexc_value\u001B[0m\u001B[0;34m\u001B[0m\u001B[0;34m\u001B[0m\u001B[0m\n\u001B[0m\u001B[1;32m     87\u001B[0m \u001B[0;34m\u001B[0m\u001B[0m\n\u001B[1;32m     88\u001B[0m \u001B[0;34m\u001B[0m\u001B[0m\n",
      "\u001B[0;31mImportError\u001B[0m: Tried to import 'plotly' but failed. Please make sure that the package is installed correctly to use this feature. Actual error: No module named 'plotly'."
     ]
    }
   ],
   "source": [
    "def objective(trial):\n",
    "    x = trial.suggest_uniform('x', -10, 10)\n",
    "    return (x - 2) ** 2\n",
    "\n",
    "study = optuna.create_study()\n",
    "study.optimize(objective, n_trials=20)\n",
    "\n",
    "plot_parallel_coordinate(study)"
   ],
   "metadata": {
    "collapsed": false,
    "pycharm": {
     "name": "#%%\n"
    }
   }
  },
  {
   "cell_type": "code",
   "execution_count": null,
   "outputs": [],
   "source": [],
   "metadata": {
    "collapsed": false,
    "pycharm": {
     "name": "#%%\n"
    }
   }
  }
 ],
 "metadata": {
  "kernelspec": {
   "display_name": "Python 3",
   "language": "python",
   "name": "python3"
  },
  "language_info": {
   "codemirror_mode": {
    "name": "ipython",
    "version": 2
   },
   "file_extension": ".py",
   "mimetype": "text/x-python",
   "name": "python",
   "nbconvert_exporter": "python",
   "pygments_lexer": "ipython2",
   "version": "2.7.6"
  }
 },
 "nbformat": 4,
 "nbformat_minor": 0
}